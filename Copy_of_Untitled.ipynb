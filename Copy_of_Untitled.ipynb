{
  "nbformat": 4,
  "nbformat_minor": 0,
  "metadata": {
    "colab": {
      "provenance": []
    },
    "kernelspec": {
      "name": "python3",
      "display_name": "Python 3"
    },
    "language_info": {
      "name": "python"
    }
  },
  "cells": [
    {
      "cell_type": "code",
      "execution_count": null,
      "metadata": {
        "colab": {
          "base_uri": "https://localhost:8080/"
        },
        "id": "jNF9v7hAn0cQ",
        "outputId": "18e973e1-6777-4711-fbdb-f0adf1ec5e7b"
      },
      "outputs": [
        {
          "output_type": "stream",
          "name": "stdout",
          "text": [
            "Random word 'vpqds' has been added to the Google Sheet.\n"
          ]
        }
      ],
      "source": [
        "from google.colab import auth\n",
        "auth.authenticate_user()\n",
        "\n",
        "import gspread\n",
        "from google.auth import default\n",
        "creds, _ = default()\n",
        "\n",
        "gc = gspread.authorize(creds)\n",
        "\n",
        "# Open the Google Sheet using its URL\n",
        "spreadsheet_url = 'https://docs.google.com/spreadsheets/d/1JfCwFCOiCddTrY4cpdizel-vX1Omvu4Jb_FhwzbgyNk/edit#gid=0'\n",
        "worksheet = gc.open_by_url(spreadsheet_url).sheet1\n",
        "\n",
        "# Function to generate a random word\n",
        "def generate_random_word(length=5):\n",
        "    letters = string.ascii_lowercase\n",
        "    return ''.join(random.choice(letters) for _ in range(length))\n",
        "\n",
        "# Generate a random word\n",
        "random_word = generate_random_word()\n",
        "\n",
        "# Get the current date and time\n",
        "import datetime\n",
        "now = datetime.datetime.now()\n",
        "timestamp = now.strftime(\"%Y-%m-%d %H:%M:%S\")\n",
        "\n",
        "# Prepare the data to be written to the sheet\n",
        "data = [random_word, timestamp]\n",
        "\n",
        "# Append the data to the sheet\n",
        "worksheet.append_row(data)\n",
        "\n",
        "print(f\"Random word '{random_word}' has been added to the Google Sheet.\")\n"
      ]
    },
    {
      "cell_type": "code",
      "source": [],
      "metadata": {
        "id": "tddkWsYNn_lH"
      },
      "execution_count": null,
      "outputs": []
    }
  ]
}